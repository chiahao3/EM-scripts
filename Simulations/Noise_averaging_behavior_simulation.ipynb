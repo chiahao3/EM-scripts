{
 "cells": [
  {
   "cell_type": "markdown",
   "metadata": {},
   "source": [
    "# Noise averaging behavior"
   ]
  },
  {
   "cell_type": "code",
   "execution_count": 1,
   "metadata": {},
   "outputs": [],
   "source": [
    "import numpy as np\n",
    "import matplotlib.pyplot as plt"
   ]
  },
  {
   "cell_type": "markdown",
   "metadata": {},
   "source": [
    "## Summary"
   ]
  },
  {
   "cell_type": "markdown",
   "metadata": {},
   "source": [
    "### Central Limit Theorem: \n",
    "No matter what kind of parent distribution (random, Gaussian, Poisson, or exponential) you have, the sampling distribution of \"sample mean\" will approach to \"Normal distribution\" while **sample size is large enough, usually we say n>30 to be a large sample size.** Note that for non-symmetric or other shapes of distribution, you may need a larger sample size. Also note that increasing the samples will not do much to the width/shape of the sampling distribution, **the shape of the sampling distribution is mainly determined by sample size**.\n",
    "\n",
    "\n",
    "### What does this mean?\n",
    "This means that for a given pixel, no matter what kind of noise was apply onto it, the sampling distribution of \"mean value of this px\" will approach to \"Normal distribution\" with standard deviation =$\\sigma/\\sqrt{n}$, n=sample size = total number of versions of this px with different noise.\n",
    "\n",
    "\"Mean value of this px\" = Summing the pixels (and then divide by the total px number) = Class-averaging\n"
   ]
  },
  {
   "cell_type": "markdown",
   "metadata": {},
   "source": [
    "### 01. Randam Noise"
   ]
  },
  {
   "cell_type": "code",
   "execution_count": 2,
   "metadata": {},
   "outputs": [
    {
     "name": "stdout",
     "output_type": "stream",
     "text": [
      "Mean of 100 noises = 49.86\n",
      "STD of 100 noises = 27.61703097727922\n",
      "Mean of 10000 means, each calculated from 100 noises = 49.936115\n",
      "STD of 10000 means, each calculated from 100 noises = 2.8992468430223393\n"
     ]
    },
    {
     "data": {
      "image/png": "[encoded data removed]",
      "text/plain": [
       "<Figure size 432x288 with 1 Axes>"
      ]
     },
     "metadata": {
      "needs_background": "light"
     },
     "output_type": "display_data"
    },
    {
     "name": "stdout",
     "output_type": "stream",
     "text": [
      "Wall time: 335 ms\n"
     ]
    }
   ],
   "source": [
    "%%time\n",
    "\n",
    "avg_iter = 10000\n",
    "size = 100\n",
    "low=0\n",
    "high=101\n",
    "random_noise = np.random.randint(low=low,high = high,size = (size, avg_iter))\n",
    "print('Mean of %s noises = %s' %(size ,np.mean(random_noise[:,0])))\n",
    "print('STD of %s noises = %s' %(size, np.std(random_noise[:,0])))\n",
    "\n",
    "random_mean_arr = np.mean(random_noise, axis=0)\n",
    "random_std_arr = np.std(random_noise, axis=0)\n",
    "print('Mean of %s means, each calculated from %s noises = %s' %(avg_iter, size, np.mean(random_mean_arr)))\n",
    "print('STD of %s means, each calculated from %s noises = %s' %(avg_iter, size, np.std(random_mean_arr)))\n",
    "\n",
    "plt.figure()\n",
    "plt.title(\"Histogram of Random Noise\")\n",
    "plt.hist(random_noise[0], bins=101, label='Random noise')\n",
    "plt.hist(random_mean_arr, bins=101, label='Mean of the random noise')\n",
    "plt.legend()\n",
    "plt.show()"
   ]
  },
  {
   "cell_type": "markdown",
   "metadata": {},
   "source": [
    "### 02. Gaussian Noise"
   ]
  },
  {
   "cell_type": "code",
   "execution_count": 3,
   "metadata": {},
   "outputs": [
    {
     "name": "stdout",
     "output_type": "stream",
     "text": [
      "Mean of 100 noises = 46.6073563616382\n",
      "STD of 100 noises = 23.943094504752953\n",
      "Mean of 10000 means, each calculated form 100 noises = 49.97974752928843\n",
      "STD of 10000 means, each calculated from 100 noises = 1.9957129631650996\n"
     ]
    },
    {
     "data": {
      "image/png": "[encoded data removed]",
      "text/plain": [
       "<Figure size 432x288 with 1 Axes>"
      ]
     },
     "metadata": {
      "needs_background": "light"
     },
     "output_type": "display_data"
    },
    {
     "name": "stdout",
     "output_type": "stream",
     "text": [
      "Wall time: 254 ms\n"
     ]
    }
   ],
   "source": [
    "%%time\n",
    "\n",
    "avg_iter = 10000\n",
    "size = 100\n",
    "loc = 50\n",
    "scale = 20\n",
    "Gaussian_noise = np.random.normal(loc=loc, scale=scale, size=(size, avg_iter))\n",
    "print('Mean of %s noises = %s' %(size ,np.mean(Gaussian_noise[:,0])))\n",
    "print('STD of %s noises = %s' %(size, np.std(Gaussian_noise[:,0])))\n",
    "\n",
    "Gaussian_mean_arr = np.mean(Gaussian_noise, axis=0)\n",
    "Gaussian_std_arr = np.std(Gaussian_noise, axis=0)\n",
    "print('Mean of %s means, each calculated form %s noises = %s' %(avg_iter, size, np.mean(Gaussian_mean_arr)))\n",
    "print('STD of %s means, each calculated from %s noises = %s' %(avg_iter, size, np.std(Gaussian_mean_arr)))\n",
    "\n",
    "\n",
    "plt.figure()\n",
    "plt.title(\"Histogram of Gaussian noise\")\n",
    "plt.hist(Gaussian_noise[0], bins=101, label='Gaussian noise')\n",
    "plt.hist(Gaussian_mean_arr,bins=101, label='Mean of the Gaussian noise')\n",
    "plt.show()"
   ]
  },
  {
   "cell_type": "markdown",
   "metadata": {},
   "source": [
    "### 03. Poisson noise"
   ]
  },
  {
   "cell_type": "code",
   "execution_count": 4,
   "metadata": {},
   "outputs": [
    {
     "name": "stdout",
     "output_type": "stream",
     "text": [
      "Mean of 100 noises = 198.94\n",
      "STD of 100 noises = 12.340842758904271\n",
      "Mean of 10000 means, each calculated form 100 noises = 199.982773\n",
      "STD of 10000 means, each calculated from 100 noises = 1.3985986988664763\n"
     ]
    },
    {
     "data": {
      "image/png": "[encoded data removed]",
      "text/plain": [
       "<Figure size 432x288 with 1 Axes>"
      ]
     },
     "metadata": {
      "needs_background": "light"
     },
     "output_type": "display_data"
    },
    {
     "name": "stdout",
     "output_type": "stream",
     "text": [
      "Wall time: 281 ms\n"
     ]
    }
   ],
   "source": [
    "%%time\n",
    "\n",
    "avg_iter = 10000\n",
    "size = 100\n",
    "lam = 200 #For Poisson distribution, this is the event counts in unit time, which is also the expectation value\n",
    "Poisson_noise = np.random.poisson(lam=lam, size=(size, avg_iter))\n",
    "print('Mean of %s noises = %s' %(size ,np.mean(Poisson_noise[:,0])))\n",
    "print('STD of %s noises = %s' %(size, np.std(Poisson_noise[:,0])))\n",
    "\n",
    "Poisson_mean_arr = np.mean(Poisson_noise, axis=0)\n",
    "Poisson_std_arr = np.std(Poisson_noise, axis=0)\n",
    "print('Mean of %s means, each calculated form %s noises = %s' %(avg_iter, size, np.mean(Poisson_mean_arr)))\n",
    "print('STD of %s means, each calculated from %s noises = %s' %(avg_iter, size, np.std(Poisson_mean_arr)))\n",
    "\n",
    "\n",
    "plt.figure()\n",
    "plt.title(\"Histogram of Poisson noise\")\n",
    "plt.hist(Poisson_noise[0], bins=101, label='Poisson noise')\n",
    "plt.hist(Poisson_mean_arr,bins=101, label='Mean of the Poisson noise')\n",
    "plt.show()"
   ]
  },
  {
   "cell_type": "markdown",
   "metadata": {},
   "source": [
    "### 04. Exponential noise"
   ]
  },
  {
   "cell_type": "code",
   "execution_count": 13,
   "metadata": {},
   "outputs": [
    {
     "name": "stdout",
     "output_type": "stream",
     "text": [
      "Mean of 100 noises = 10.377228389057827\n",
      "STD of 100 noises = 9.435438318441138\n",
      "Mean of 10000 means, each calculated form 100 noises = 10.001940054356837\n",
      "STD of 10000 means, each calculated from 100 noises = 0.9921019768480492\n"
     ]
    },
    {
     "data": {
      "image/png": "[encoded data removed]",
      "text/plain": [
       "<Figure size 432x288 with 1 Axes>"
      ]
     },
     "metadata": {
      "needs_background": "light"
     },
     "output_type": "display_data"
    },
    {
     "name": "stdout",
     "output_type": "stream",
     "text": [
      "Wall time: 320 ms\n"
     ]
    }
   ],
   "source": [
    "%%time\n",
    "\n",
    "avg_iter = 10000\n",
    "size = 100\n",
    "scale=10 \n",
    "Exp_noise = np.random.exponential(scale=scale, size=(size, avg_iter))\n",
    "print('Mean of %s noises = %s' %(size ,np.mean(Exp_noise[:,0])))\n",
    "print('STD of %s noises = %s' %(size, np.std(Exp_noise[:,0])))\n",
    "\n",
    "Exp_mean_arr = np.mean(Exp_noise, axis=0)\n",
    "Exp_std_arr = np.std(Exp_noise, axis=0)\n",
    "print('Mean of %s means, each calculated form %s noises = %s' %(avg_iter, size, np.mean(Exp_mean_arr)))\n",
    "print('STD of %s means, each calculated from %s noises = %s' %(avg_iter, size, np.std(Exp_mean_arr)))\n",
    "\n",
    "\n",
    "plt.figure()\n",
    "plt.title(\"Histogram of Exponential noise\")\n",
    "plt.hist(Exp_noise[0], bins=101, label='Exp noise')\n",
    "plt.hist(Exp_mean_arr,bins=101, label='Mean of the Exp noise')\n",
    "plt.show()"
   ]
  },
  {
   "cell_type": "markdown",
   "metadata": {},
   "source": [
    "### 05. Compound noise"
   ]
  },
  {
   "cell_type": "code",
   "execution_count": 25,
   "metadata": {},
   "outputs": [
    {
     "name": "stdout",
     "output_type": "stream",
     "text": [
      "Mean of 200 noises = 105.23290521851435\n",
      "STD of 200 noises = 95.04078507582064\n",
      "Mean of 500 means, each calculated form 200 noises = 104.96632513655099\n",
      "STD of 500 means, each calculated from 200 noises = 0.7724542102828069\n"
     ]
    },
    {
     "data": {
      "image/png": "[encoded data removed]",
      "text/plain": [
       "<Figure size 432x288 with 1 Axes>"
      ]
     },
     "metadata": {
      "needs_background": "light"
     },
     "output_type": "display_data"
    },
    {
     "name": "stdout",
     "output_type": "stream",
     "text": [
      "Wall time: 158 ms\n"
     ]
    }
   ],
   "source": [
    "%%time\n",
    "\n",
    "avg_iter = 500\n",
    "size = 200\n",
    "scale=10 \n",
    "\n",
    "a = np.random.exponential(scale=10, size=(size//2, avg_iter))\n",
    "b = np.random.normal(loc=200, scale=10, size=(size//2, avg_iter))\n",
    "Com_noise = np.concatenate((a,b), axis=0)\n",
    "np.random.shuffle(Com_noise)    \n",
    "    \n",
    "print('Mean of %s noises = %s' %(size ,np.mean(Com_noise[:,0])))\n",
    "print('STD of %s noises = %s' %(size, np.std(Com_noise[:,0])))\n",
    "\n",
    "Com_mean_arr = np.mean(Com_noise, axis=0)\n",
    "Com_std_arr = np.std(Com_noise, axis=0)\n",
    "print('Mean of %s means, each calculated form %s noises = %s' %(avg_iter, size, np.mean(Com_mean_arr)))\n",
    "print('STD of %s means, each calculated from %s noises = %s' %(avg_iter, size, np.std(Com_mean_arr)))\n",
    "\n",
    "\n",
    "plt.figure()\n",
    "plt.title(\"Histogram of Comound noise\")\n",
    "plt.hist(Com_noise[:,0], bins=51, label='Compound noise')\n",
    "plt.hist(Com_mean_arr,bins=51, label='Mean of the Compound noise')\n",
    "plt.legend()\n",
    "plt.show()\n"
   ]
  }
 ],
 "metadata": {
  "kernelspec": {
   "display_name": "Python 3",
   "language": "python",
   "name": "python3"
  },
  "language_info": {
   "codemirror_mode": {
    "name": "ipython",
    "version": 3
   },
   "file_extension": ".py",
   "mimetype": "text/x-python",
   "name": "python",
   "nbconvert_exporter": "python",
   "pygments_lexer": "ipython3",
   "version": "3.7.0"
  }
 },
 "nbformat": 4,
 "nbformat_minor": 2
}
