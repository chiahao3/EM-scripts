{
 "cells": [
  {
   "cell_type": "markdown",
   "metadata": {},
   "source": [
    "Chia-Hao Lee, 2021.03.07"
   ]
  },
  {
   "cell_type": "markdown",
   "metadata": {},
   "source": [
    "## General question:\n",
    "### When we calculate standard deviation, how many significant figures we should keep?\n",
    "Example: s = std(a) = 0.123456789..., \n",
    "\n",
    "s = 0.1  ?\n",
    "\n",
    "s = 0.12 ?\n",
    "\n",
    "s = 0.123?"
   ]
  },
  {
   "cell_type": "code",
   "execution_count": 1,
   "metadata": {},
   "outputs": [],
   "source": [
    "import numpy as np\n",
    "import matplotlib.pyplot as plt"
   ]
  },
  {
   "cell_type": "code",
   "execution_count": 14,
   "metadata": {},
   "outputs": [
    {
     "name": "stdout",
     "output_type": "stream",
     "text": [
      "Gaussian mean at 330.5\n",
      "Gaussian sigma =  8.123456789\n",
      "Gaussian size =  (34000, 10000)\n"
     ]
    }
   ],
   "source": [
    "loc = 330.5\n",
    "scale = 8.123456789\n",
    "num = 34000\n",
    "iterations = 10000\n",
    "size = (num, iterations)\n",
    "a = np.random.normal(loc, scale, size)\n",
    "\n",
    "print('Gaussian mean at', loc)\n",
    "print('Gaussian sigma = ', scale)\n",
    "print('Gaussian size = ', size)"
   ]
  },
  {
   "cell_type": "code",
   "execution_count": 15,
   "metadata": {},
   "outputs": [
    {
     "name": "stdout",
     "output_type": "stream",
     "text": [
      "0 th std =  8.09452668010568\n",
      "1000 th std =  8.132975818819968\n",
      "2000 th std =  8.118279886063785\n",
      "3000 th std =  8.068658803776664\n",
      "4000 th std =  8.104785725702753\n",
      "5000 th std =  8.08392118721399\n",
      "6000 th std =  8.095580249985641\n",
      "7000 th std =  8.08976878781442\n",
      "8000 th std =  8.121497192396104\n",
      "9000 th std =  8.059549428237489\n",
      "STD of the  10000 stds = 0.030977465797876694, each std was calculated from 34000 numbers\n",
      "The STD can be approximated by std/sqrt(2*num) = 8.1235310357041 /sqrt(2*34000) = 0.031152319451000318\n"
     ]
    }
   ],
   "source": [
    "std_list = []\n",
    "mean_list = []\n",
    "k = iterations/10\n",
    "for i in range(iterations):\n",
    "    if i%int(k)==0:\n",
    "        print('%s th std = '%(i), np.std(a[:,i]))\n",
    "    std_list.append(np.std(a[:,i]))\n",
    "    mean_list.append(np.mean(a[:,i]))\n",
    "print('STD of the  %s stds = %s, each std was calculated from %s numbers' %(iterations, np.std(std_list), num))\n",
    "print('The STD can be approximated by std/sqrt(2*num) = %s /sqrt(2*%s) = %s' %(np.mean(std_list), num, np.mean(std_list)/(2*num)**0.5))"
   ]
  },
  {
   "cell_type": "markdown",
   "metadata": {},
   "source": [
    "## Note\n",
    "We generated a lot of random numbers from a Gaussian distribution, we can separate them into different groups. Each group has (#num) values, and we have (#iterations) groups.\n",
    "\n",
    "Everytime we calculate std from a different group, the std will be slightly different because we only have limited samples(#num). We can calculate these std for multiple (#iterations), and we'll see the STD for these stds also changes slowly as we increase (#iterations). \n",
    "\n",
    "The reason that std fluctuates is the same as why STD fluctuate, they're both originates from statistical error of \"sampling\".\n",
    "\n",
    "### As you may notice, this implies that all the estimate from a distribution has its own uncertainty, and you need infinite samples to determine all of them."
   ]
  },
  {
   "cell_type": "code",
   "execution_count": 16,
   "metadata": {},
   "outputs": [
    {
     "name": "stdout",
     "output_type": "stream",
     "text": [
      "In this example, \n",
      "The mean of first 34000 samples = 330.5187560263953\n",
      "The std from these 34000 samples = 8.09452668010568\n",
      "However, we know that the fluctuations between 10000 stds = 0.030977465797876694\n",
      "The std can be ranging from 8.092553569906224 to 8.154508501501978\n",
      "\n",
      "There's NO point to claim the std with more figures than its own fluctuation.\n",
      "Same idea, there's NO point to claim the mean with more figures than its own fluctuation.\n",
      "The fluctuation of the mean is the 'standard error of the mean', expected to be  0.043898734463516303 \n",
      "which is std/sqrt(N), not std(standard deviation for all the samples) \n",
      "The SEM from these simulation is  0.043743475396619436\n",
      "\n",
      "For std = 8.xxxx, we do not need to report the extra digits because it does not help us to get a better mean.\n",
      "In order to claim the std below decimal point, we need 0.5*(8/0.01)^2 = 320000 samples......\n"
     ]
    }
   ],
   "source": [
    "print('In this example, ')\n",
    "print('The mean of first %s samples = %s' %(num , mean_list[0]))\n",
    "print('The std from these %s samples = %s' %(num, std_list[0]))\n",
    "print('However, we know that the fluctuations between %s stds = %s' %(iterations, np.std(std_list)))\n",
    "\n",
    "print('The std can be ranging from %s to %s' %(np.mean(std_list)-np.std(std_list),np.mean(std_list)+np.std(std_list)))\n",
    "print(\"\\nThere's NO point to claim the std with more figures than its own fluctuation.\")\n",
    "print(\"Same idea, there's NO point to claim the mean with more figures than its own fluctuation.\")\n",
    "print(\"The fluctuation of the mean is the 'standard error of the mean', expected to be \", std_list[0]/np.sqrt(num) ,\n",
    "      \"\\nwhich is std/sqrt(N), not std(standard deviation for all the samples) \")\n",
    "print(\"The SEM from these simulation is \", np.std(mean_list))\n",
    "\n",
    "print('\\nFor std = 8.xxxx, we do not need to report the extra digits because it does not help us to get a better mean.')\n",
    "print('In order to claim the std below decimal point, we need 0.5*(8/0.01)^2 = 320000 samples......')"
   ]
  },
  {
   "cell_type": "markdown",
   "metadata": {},
   "source": [
    "### In short, \n",
    "1. You did 34000 measurements and want to report the distribution of raw measurement: \n",
    "\n",
    "d = 331 $\\pm$ 8\n",
    "\n",
    "2. You want to report the possible spread of the mean you got:\n",
    "\n",
    "d_mean = 330.5 $\\pm$ 0.04\n"
   ]
  },
  {
   "cell_type": "code",
   "execution_count": null,
   "metadata": {},
   "outputs": [],
   "source": []
  }
 ],
 "metadata": {
  "kernelspec": {
   "display_name": "Python 3",
   "language": "python",
   "name": "python3"
  },
  "language_info": {
   "codemirror_mode": {
    "name": "ipython",
    "version": 3
   },
   "file_extension": ".py",
   "mimetype": "text/x-python",
   "name": "python",
   "nbconvert_exporter": "python",
   "pygments_lexer": "ipython3",
   "version": "3.8.5"
  }
 },
 "nbformat": 4,
 "nbformat_minor": 2
}
